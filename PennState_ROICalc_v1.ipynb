{
 "cells": [
  {
   "cell_type": "code",
   "execution_count": null,
   "id": "3617f9f8-dd30-47cd-8c71-846480788e85",
   "metadata": {},
   "outputs": [],
   "source": [
    "!pip install voila matplotlib seaborn pandas numpy requests"
   ]
  },
  {
   "cell_type": "code",
   "execution_count": 10,
   "id": "cb212dc8-8f00-48ba-83a9-cb61fa971852",
   "metadata": {},
   "outputs": [
    {
     "data": {
      "application/vnd.jupyter.widget-view+json": {
       "model_id": "2edf3185b11b4da89099869e8e7693fa",
       "version_major": 2,
       "version_minor": 0
      },
      "text/plain": [
       "FloatText(value=55.0, description='DMI (lbs/day):')"
      ]
     },
     "metadata": {},
     "output_type": "display_data"
    },
    {
     "data": {
      "application/vnd.jupyter.widget-view+json": {
       "model_id": "397c639e89f64494afee1aaa3a4cdef5",
       "version_major": 2,
       "version_minor": 0
      },
      "text/plain": [
       "FloatText(value=90.0, description='Milk Yield (lbs/day):')"
      ]
     },
     "metadata": {},
     "output_type": "display_data"
    },
    {
     "data": {
      "application/vnd.jupyter.widget-view+json": {
       "model_id": "3ec90049dae6441e8891ba146ddf4704",
       "version_major": 2,
       "version_minor": 0
      },
      "text/plain": [
       "FloatText(value=4.1, description='Milk Fat (%):')"
      ]
     },
     "metadata": {},
     "output_type": "display_data"
    },
    {
     "data": {
      "application/vnd.jupyter.widget-view+json": {
       "model_id": "c925dfc271584d3684ce42e0607749e1",
       "version_major": 2,
       "version_minor": 0
      },
      "text/plain": [
       "FloatText(value=3.2, description='Protein (%):')"
      ]
     },
     "metadata": {},
     "output_type": "display_data"
    },
    {
     "data": {
      "application/vnd.jupyter.widget-view+json": {
       "model_id": "dd5159894c394eab9c3e29a2a42b2254",
       "version_major": 2,
       "version_minor": 0
      },
      "text/plain": [
       "FloatText(value=4.85, description='Lactose (%):')"
      ]
     },
     "metadata": {},
     "output_type": "display_data"
    },
    {
     "data": {
      "application/vnd.jupyter.widget-view+json": {
       "model_id": "2b6ebd24107f47d6ad78f929b0af6627",
       "version_major": 2,
       "version_minor": 0
      },
      "text/plain": [
       "FloatText(value=40.0, description='Carbon Credit ($/tonne):')"
      ]
     },
     "metadata": {},
     "output_type": "display_data"
    },
    {
     "data": {
      "application/vnd.jupyter.widget-view+json": {
       "model_id": "4c998bfcad8944fe80219ec0a288ec35",
       "version_major": 2,
       "version_minor": 0
      },
      "text/plain": [
       "Dropdown(description='Feed Additive:', options=('3-NOP', 'Essential Oils', 'Tannins', 'Yeast Culture'), value=…"
      ]
     },
     "metadata": {},
     "output_type": "display_data"
    },
    {
     "data": {
      "application/vnd.jupyter.widget-view+json": {
       "model_id": "bf8a4f21b858484badbc2cb8f96fa327",
       "version_major": 2,
       "version_minor": 0
      },
      "text/plain": [
       "Button(button_style='success', description='Calculate ROI', style=ButtonStyle())"
      ]
     },
     "metadata": {},
     "output_type": "display_data"
    }
   ],
   "source": [
    "import ipywidgets as widgets\n",
    "import pandas as pd\n",
    "import numpy as np\n",
    "import requests\n",
    "import matplotlib.pyplot as plt\n",
    "import seaborn as sns\n",
    "from IPython.display import display, HTML\n",
    "\n",
    "# Function to fetch real-time USDA milk component prices\n",
    "def get_usda_prices():\n",
    "    url = \"https://www.ams.usda.gov/mnreports/dymclassprices.txt\"  # USDA report URL\n",
    "    try:\n",
    "        response = requests.get(url)\n",
    "        text = response.text\n",
    "        lines = text.split(\"\\n\")\n",
    "        prices = {\"Butterfat\": 2.95, \"Protein\": 2.33, \"Other Solids\": 0.54}  # Default values\n",
    "        \n",
    "        for line in lines:\n",
    "            if \"Butterfat\" in line:\n",
    "                prices[\"Butterfat\"] = float(line.split()[-1])\n",
    "            elif \"Protein\" in line:\n",
    "                prices[\"Protein\"] = float(line.split()[-1])\n",
    "            elif \"Other Solids\" in line:\n",
    "                prices[\"Other Solids\"] = float(line.split()[-1])\n",
    "        \n",
    "        return prices\n",
    "    except:\n",
    "        return {\"Butterfat\": 2.95, \"Protein\": 2.33, \"Other Solids\": 0.54}  # Return defaults if API fails\n",
    "\n",
    "# Fetch updated milk prices\n",
    "milk_prices = get_usda_prices()\n",
    "\n",
    "# Create interactive input widgets\n",
    "dmi = widgets.FloatText(value=55.0, description=\"DMI (lbs/day):\")\n",
    "milk_yield = widgets.FloatText(value=90.0, description=\"Milk Yield (lbs/day):\")\n",
    "milk_fat = widgets.FloatText(value=4.1, description=\"Milk Fat (%):\")\n",
    "milk_protein = widgets.FloatText(value=3.2, description=\"Protein (%):\")\n",
    "milk_lactose = widgets.FloatText(value=4.85, description=\"Lactose (%):\")\n",
    "carbon_credit_price = widgets.FloatText(value=40.0, description=\"Carbon Credit ($/tonne):\")\n",
    "\n",
    "# Dropdown for feed additives\n",
    "feed_additive_type = widgets.Dropdown(\n",
    "    options=[\"3-NOP\", \"Essential Oils\", \"Tannins\", \"Yeast Culture\"],\n",
    "    value=\"3-NOP\",\n",
    "    description=\"Feed Additive:\"\n",
    ")\n",
    "\n",
    "# Button to run calculations\n",
    "calc_button = widgets.Button(description=\"Calculate ROI\", button_style='success')\n",
    "\n",
    "# Display widgets\n",
    "display(dmi, milk_yield, milk_fat, milk_protein, milk_lactose, carbon_credit_price, feed_additive_type, calc_button)\n",
    "\n",
    "# Function to perform calculations & generate visuals\n",
    "def calculate_roi(_):\n",
    "    feed_additive_costs = {\"3-NOP\": 0.05, \"Essential Oils\": 0.03, \"Tannins\": 0.04, \"Yeast Culture\": 0.02}\n",
    "    feed_additive_cost = feed_additive_costs[feed_additive_type.value]\n",
    "\n",
    "    # Compute Milk Component Revenues\n",
    "    fat_revenue = milk_yield.value * (milk_fat.value / 100) * milk_prices[\"Butterfat\"]\n",
    "    protein_revenue = milk_yield.value * (milk_protein.value / 100) * milk_prices[\"Protein\"]\n",
    "    other_solids_revenue = milk_yield.value * (milk_lactose.value / 100) * milk_prices[\"Other Solids\"]\n",
    "    total_milk_revenue = fat_revenue + protein_revenue + other_solids_revenue\n",
    "\n",
    "    # Ration Cost Calculation\n",
    "    ration_cost_per_lb = 0.18\n",
    "    ration_cost_per_cow = ration_cost_per_lb * dmi.value\n",
    "\n",
    "    # IOFC Calculation\n",
    "    iofc = total_milk_revenue - ration_cost_per_cow\n",
    "\n",
    "    # Methane Mitigation (assuming 5% reduction)\n",
    "    ch4_emissions = 457  # Default CH4 emissions in g/d\n",
    "    ch4_reduction = ch4_emissions * -0.05  # 5% reduction\n",
    "    co2_eq_mitigation = ch4_reduction * 28  # Convert CH4 to CO2 equivalent\n",
    "    carbon_credit_revenue = (co2_eq_mitigation * carbon_credit_price.value) / 1_000_000  # Convert g to tonnes\n",
    "\n",
    "    # Net Return & ROI Calculation\n",
    "    net_return = (carbon_credit_revenue + total_milk_revenue - ration_cost_per_cow) - feed_additive_cost\n",
    "    roi = net_return / feed_additive_cost\n",
    "\n",
    "    # Breakeven Analysis\n",
    "    breakeven_price_carbon_credit = carbon_credit_price.value + (net_return / co2_eq_mitigation * 1_000_000) if co2_eq_mitigation != 0 else 0\n",
    "    breakeven_feed_additive_price = total_milk_revenue - ration_cost_per_cow + ch4_reduction\n",
    "\n",
    "    # Summary Table\n",
    "    results_df = pd.DataFrame({\n",
    "        \"Metric\": [\n",
    "            \"Milk Revenue ($/cow/day)\", \"Ration Cost ($/cow/day)\", \"IOFC ($/cow/day)\",\n",
    "            \"CH4 Reduction (g/d)\", \"CO2 Equivalent Mitigation (g/d)\", \"Carbon Credit Revenue ($/cow/day)\",\n",
    "            \"Net Return Feed Additive ($/cow/day)\", \"ROI (%)\", \"Breakeven Feed Additive Price ($/cow/day)\"\n",
    "        ],\n",
    "        \"Value\": [\n",
    "            total_milk_revenue, ration_cost_per_cow, iofc, ch4_reduction, co2_eq_mitigation,\n",
    "            carbon_credit_revenue, net_return, roi, breakeven_feed_additive_price\n",
    "        ]\n",
    "    })\n",
    "\n",
    "    display(results_df)\n",
    "\n",
    "    # Create Plots\n",
    "    fig, axes = plt.subplots(3, 1, figsize=(7, 10))\n",
    "\n",
    "    # ROI vs Carbon Value\n",
    "    carbon_values = np.linspace(0, 400, 10)\n",
    "    roi_values = roi + (carbon_values * 0.02)  # Example trend\n",
    "    axes[0].plot(carbon_values, roi_values, label=\"ROI for Your Inputs\", color='blue')\n",
    "    axes[0].axhline(y=0, color='red', linestyle='dashed')  # Zero ROI line\n",
    "    axes[0].set_xlabel(\"Carbon value, $/ton\")\n",
    "    axes[0].set_ylabel(\"Return on investment (%)\")\n",
    "    axes[0].legend()\n",
    "    axes[0].set_title(\"ROI vs. Carbon Value\")\n",
    "\n",
    "    # CH4 Emissions Bar Chart\n",
    "    sns.barplot(x=[\"Original\", \"Mean Scenarios\", \"Your Inputs\"], y=[457, 328, ch4_reduction], ax=axes[1], palette=\"Blues\")\n",
    "    axes[1].set_title(\"Enteric CH4 Emissions (g/d)\")\n",
    "    axes[1].set_ylabel(\"CH4 (g/d)\")\n",
    "\n",
    "    # Breakeven Feed Additive Price\n",
    "    sns.barplot(x=[\"Original\", \"Mean\", \"Your Inputs\"], y=[0.00, 0.08, breakeven_feed_additive_price], ax=axes[2], palette=\"Blues\")\n",
    "    axes[2].set_title(\"Breakeven Feed Additive Price ($/cow/day)\")\n",
    "    axes[2].set_ylabel(\"Price ($)\")\n",
    "\n",
    "    plt.tight_layout()\n",
    "    plt.show()\n",
    "\n",
    "    # Save results to CSV\n",
    "    results_df.to_csv(\"dairy_roi_results.csv\", index=False)\n",
    "    display(HTML(\"<b>Results saved to <a href='dairy_roi_results.csv' download>dairy_roi_results.csv</a></b>\"))\n",
    "\n",
    "# Link button to function\n",
    "calc_button.on_click(calculate_roi)"
   ]
  }
 ],
 "metadata": {
  "kernelspec": {
   "display_name": "Python [conda env:base] *",
   "language": "python",
   "name": "conda-base-py"
  },
  "language_info": {
   "codemirror_mode": {
    "name": "ipython",
    "version": 3
   },
   "file_extension": ".py",
   "mimetype": "text/x-python",
   "name": "python",
   "nbconvert_exporter": "python",
   "pygments_lexer": "ipython3",
   "version": "3.10.9"
  }
 },
 "nbformat": 4,
 "nbformat_minor": 5
}
